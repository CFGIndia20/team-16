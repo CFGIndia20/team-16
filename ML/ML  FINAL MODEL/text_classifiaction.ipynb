{
 "cells": [
  {
   "cell_type": "code",
   "execution_count": 22,
   "metadata": {},
   "outputs": [],
   "source": [
    "import pandas as pd\n",
    "import numpy as np"
   ]
  },
  {
   "cell_type": "code",
   "execution_count": 23,
   "metadata": {
    "scrolled": false
   },
   "outputs": [
    {
     "data": {
      "text/plain": [
       "<bound method DataFrame.dropna of                                              created_at  \\\n",
       "0     We are facing multiple issues related to road ...   \n",
       "1     This is a really bad road. we need it cleaned ...   \n",
       "2                          This needs to be fixed asap.   \n",
       "3     We observed frequently heavy traffic at dahisa...   \n",
       "4     A pothole in front of Chand Shahwli Baba Darga...   \n",
       "5     Garbage has been piling up near the Boat house...   \n",
       "6     This is on the road while coming towards royal...   \n",
       "7     Potholes uneven road in front of Riddhi Garden...   \n",
       "8     Killer pitholes throughout from marol to saki ...   \n",
       "9     From ghatkopar west station to jagdusha nagar ...   \n",
       "10    Lots off potholes on service road of magatgane...   \n",
       "11    Lots off potholes on service road of magatgane...   \n",
       "12    In my slum area the garbage collection system ...   \n",
       "13    Would request the authorities to provide more ...   \n",
       "14    Road is narrow and huge truck ,bus ,car,auto a...   \n",
       "15                           Water problem in our area.   \n",
       "16    The mangroves below our building which somehow...   \n",
       "17    Dustbins are kept on locations but not maintai...   \n",
       "18    When our area established before 10 years, bui...   \n",
       "19    Hello since months we have been suffering from...   \n",
       "20    Plenty of spots in seven bungalows to versova ...   \n",
       "21    Shield and rebbies dropped at garbage platform...   \n",
       "22             So much garbage and less garbage storage   \n",
       "23    Highway is like a kides garden... and a new dr...   \n",
       "24    GARBAGE IS BEING DUMPED ON ALL 3 SIDES OF MY H...   \n",
       "25    NEW AGRIPADA , SANTACRUZ EAST WARD NO. 81 KE I...   \n",
       "26    I am staying in this area since last 55 years ...   \n",
       "27    Roads are filled with pot-holes. It\\'s difficu...   \n",
       "28    The roads are actually missing between Kandiva...   \n",
       "29    Everyone knows about the traffic issue at Dahi...   \n",
       "...                                                 ...   \n",
       "7152  the road below the metro leading towards jarag...   \n",
       "7153  So many garbage bag or fetid water in my area ...   \n",
       "7154  Picture Taken at : 10/08/2018 15:26:21 checkin...   \n",
       "7155  A tadgola tree is present very near to a footp...   \n",
       "7156  Sewage line join in lake plese take action to ...   \n",
       "7157  The residents of this hldg throw garbage n dir...   \n",
       "7158  There is many potholes in the road vechiles ca...   \n",
       "7159  The MMRDA Pay n Park near the Ambani school an...   \n",
       "7160  Its has been 2-3 days the garbage van has not ...   \n",
       "7161  Dumping of garbage in this area has been a big...   \n",
       "7162  The patch of road was not filled after emergen...   \n",
       "7163  On this road there is always water logging in ...   \n",
       "7164  A local disposal area has been made near Shiva...   \n",
       "7165  Please remove this garbage from footpath front...   \n",
       "7166  People urinate in the open in this area. This ...   \n",
       "7167  The BMC broke two street lights on marine driv...   \n",
       "7168  Picture Taken at : 05/09/2018 22:48:56 - 233 -...   \n",
       "7169  Picture Taken at : 05/09/2018 22:50:24 - 233 -...   \n",
       "7170                            Drainage Line choked up   \n",
       "7171                 there is waste dumped near station   \n",
       "7172                 there is waste dumped near station   \n",
       "7173            Garbage near durga devi school at Nahar   \n",
       "7174                               Broken manhole cover   \n",
       "7175        Potholed Road. Needs to be fixed. Dangerous   \n",
       "7176                               Garbage on foot path   \n",
       "7177                               Garbage on foot path   \n",
       "7178                             Garbage near foot path   \n",
       "7179  Please add sound barrier Along all the suburba...   \n",
       "7180                               Garbage on foot path   \n",
       "7181                               Garbage on foot path   \n",
       "\n",
       "                                            description         category  \n",
       "0     Potholes, Illegal Parking and Movement of Heav...         Potholes  \n",
       "1                             Bad road now with garbage          Garbage  \n",
       "2          Traffic issue that needs immediate attention          Traffic  \n",
       "3                     Traffic jam at Dahisar check naka          Traffic  \n",
       "4                              Pothole on Pipeline Road         Potholes  \n",
       "5                          Garbage pile near Powai lake          Garbage  \n",
       "6     Lot of potholes which makes it difficult to co...         Potholes  \n",
       "7     Potholes n uneven road in front of riddhi gardens         Potholes  \n",
       "8                                    Dangerous potholes         Potholes  \n",
       "9             Bad roads, few streetlights and pot holes         Potholes  \n",
       "10                                             Potholes         Potholes  \n",
       "11                                             Potholes         Potholes  \n",
       "12                                   Garbage collection          Garbage  \n",
       "13                                         Garbage bins          Garbage  \n",
       "14                         Huge traffic due to bad road         Potholes  \n",
       "15                               Frequently water issue            Water  \n",
       "16                                Toilets in the greens          Toilets  \n",
       "17                      Dustbin not properly maintained          Garbage  \n",
       "18     No lights attached only poles standed from years          Traffic  \n",
       "19            Lifting up garbage and cleaning footpaths          Garbage  \n",
       "20                                       Filthy Garbage          Garbage  \n",
       "21       Shield and rebbies dropped at garbage platform          Garbage  \n",
       "22                                              Garbage          Garbage  \n",
       "23                               Highway potholes issue         Potholes  \n",
       "24                                       GARBAGE DUMPED          Garbage  \n",
       "25                    GARBAGE AND BEHIND WINE SHOP ROAD          Garbage  \n",
       "26                   Dog barking nuisance during night.    Stray Animals  \n",
       "27    Condition of roads have become worse since mon...         Potholes  \n",
       "28                                            Bad Roads         Potholes  \n",
       "29                                  Dahisar Cgechk Naka          Traffic  \n",
       "...                                                 ...              ...  \n",
       "7152           the road below the metro leading towards         Potholes  \n",
       "7153            Clean my area of garbage or fetid water          Garbage  \n",
       "7154                       Complaint about Garbage Dump          Garbage  \n",
       "7155  Cutting down of tree which is very close to fo...            Trees  \n",
       "7156  Sewage line join in lake plese take action to ...  Water Pollution  \n",
       "7157            Garbage accumulation in ram Laxman bldg          Garbage  \n",
       "7158                                          Pot holes         Potholes  \n",
       "7159  The MMRDA Pay n Park near the Ambani school an...          Garbage  \n",
       "7160  Its has been 2-3 days the garbage van has not ...          Garbage  \n",
       "7161  Dumping of garbage in this area has been a big...          Garbage  \n",
       "7162  The patch of road was not filled after emergen...         Potholes  \n",
       "7163                     Garbage dump and water logging          Garbage  \n",
       "7164                                     Garbage remoal          Garbage  \n",
       "7165  Please remove this garbage from footpath front...          Garbage  \n",
       "7166  People urinate in the open in this area. This ...      Cleanliness  \n",
       "7167  The BMC broke two street lights on marine driv...      Electricity  \n",
       "7168                       Complaint about Garbage Dump          Garbage  \n",
       "7169                       Complaint about Garbage Dump          Garbage  \n",
       "7170                            Drainage Line choked up         Drainage  \n",
       "7171                               Waste dumped on road          Garbage  \n",
       "7172                               Waste dumped on road          Garbage  \n",
       "7173            Garbage near durga devi school at Nahar          Garbage  \n",
       "7174                               Broken manhole cover         Potholes  \n",
       "7175        Potholed Road. Needs to be fixed. Dangerous         Potholes  \n",
       "7176                               Garbage on foot path          Garbage  \n",
       "7177                               Garbage on foot path          Garbage  \n",
       "7178                             Garbage near foot path          Garbage  \n",
       "7179  Please add sound barrier Along all the suburba...  Noise Pollution  \n",
       "7180                               Garbage on foot path          Garbage  \n",
       "7181                               Garbage on foot path          Garbage  \n",
       "\n",
       "[7181 rows x 3 columns]>"
      ]
     },
     "execution_count": 23,
     "metadata": {},
     "output_type": "execute_result"
    }
   ],
   "source": [
    "df = pd.read_csv(\"train.csv\")\n",
    "df\n",
    "np.where(pd.isnull(df))\n",
    "df.drop(index=7037,inplace=True)\n",
    "df.dropna"
   ]
  },
  {
   "cell_type": "code",
   "execution_count": 24,
   "metadata": {},
   "outputs": [],
   "source": [
    "col = ['category', 'description']\n",
    "df= df[col]\n",
    "df= df[pd.notnull(df['description'])]"
   ]
  },
  {
   "cell_type": "code",
   "execution_count": 25,
   "metadata": {},
   "outputs": [],
   "source": [
    "df.columns=['category', 'description']"
   ]
  },
  {
   "cell_type": "code",
   "execution_count": 26,
   "metadata": {},
   "outputs": [],
   "source": [
    "import matplotlib.pyplot as plt"
   ]
  },
  {
   "cell_type": "code",
   "execution_count": 27,
   "metadata": {},
   "outputs": [
    {
     "data": {
      "text/plain": [
       "<Figure size 576x432 with 0 Axes>"
      ]
     },
     "metadata": {},
     "output_type": "display_data"
    }
   ],
   "source": [
    "fig = plt.figure(figsize= (8,6))"
   ]
  },
  {
   "cell_type": "code",
   "execution_count": 28,
   "metadata": {
    "scrolled": true
   },
   "outputs": [
    {
     "data": {
      "text/plain": [
       "<matplotlib.axes._subplots.AxesSubplot at 0x1de3659e128>"
      ]
     },
     "execution_count": 28,
     "metadata": {},
     "output_type": "execute_result"
    },
    {
     "data": {
      "image/png": "[encoded data removed]",
      "text/plain": [
       "<Figure size 432x288 with 1 Axes>"
      ]
     },
     "metadata": {
      "needs_background": "light"
     },
     "output_type": "display_data"
    }
   ],
   "source": [
    "df.groupby('category').description.count().plot.bar(ylim=0)"
   ]
  },
  {
   "cell_type": "code",
   "execution_count": 45,
   "metadata": {},
   "outputs": [
    {
     "data": {
      "text/html": [
       "<div>\n",
       "<style scoped>\n",
       "    .dataframe tbody tr th:only-of-type {\n",
       "        vertical-align: middle;\n",
       "    }\n",
       "\n",
       "    .dataframe tbody tr th {\n",
       "        vertical-align: top;\n",
       "    }\n",
       "\n",
       "    .dataframe thead th {\n",
       "        text-align: right;\n",
       "    }\n",
       "</style>\n",
       "<table border=\"1\" class=\"dataframe\">\n",
       "  <thead>\n",
       "    <tr style=\"text-align: right;\">\n",
       "      <th></th>\n",
       "      <th>category</th>\n",
       "      <th>category_id</th>\n",
       "    </tr>\n",
       "  </thead>\n",
       "  <tbody>\n",
       "    <tr>\n",
       "      <th>0</th>\n",
       "      <td>Potholes</td>\n",
       "      <td>0</td>\n",
       "    </tr>\n",
       "    <tr>\n",
       "      <th>1</th>\n",
       "      <td>Garbage</td>\n",
       "      <td>1</td>\n",
       "    </tr>\n",
       "    <tr>\n",
       "      <th>2</th>\n",
       "      <td>Traffic</td>\n",
       "      <td>2</td>\n",
       "    </tr>\n",
       "    <tr>\n",
       "      <th>15</th>\n",
       "      <td>Water</td>\n",
       "      <td>3</td>\n",
       "    </tr>\n",
       "    <tr>\n",
       "      <th>16</th>\n",
       "      <td>Toilets</td>\n",
       "      <td>4</td>\n",
       "    </tr>\n",
       "    <tr>\n",
       "      <th>26</th>\n",
       "      <td>Stray Animals</td>\n",
       "      <td>5</td>\n",
       "    </tr>\n",
       "    <tr>\n",
       "      <th>32</th>\n",
       "      <td>Noise Pollution</td>\n",
       "      <td>6</td>\n",
       "    </tr>\n",
       "    <tr>\n",
       "      <th>34</th>\n",
       "      <td>Electricity</td>\n",
       "      <td>7</td>\n",
       "    </tr>\n",
       "    <tr>\n",
       "      <th>49</th>\n",
       "      <td>Air Pollution</td>\n",
       "      <td>8</td>\n",
       "    </tr>\n",
       "    <tr>\n",
       "      <th>53</th>\n",
       "      <td>Cleanliness</td>\n",
       "      <td>9</td>\n",
       "    </tr>\n",
       "    <tr>\n",
       "      <th>122</th>\n",
       "      <td>Parking</td>\n",
       "      <td>10</td>\n",
       "    </tr>\n",
       "    <tr>\n",
       "      <th>152</th>\n",
       "      <td>Water Pollution</td>\n",
       "      <td>11</td>\n",
       "    </tr>\n",
       "    <tr>\n",
       "      <th>156</th>\n",
       "      <td>Trafic</td>\n",
       "      <td>12</td>\n",
       "    </tr>\n",
       "    <tr>\n",
       "      <th>268</th>\n",
       "      <td>Station</td>\n",
       "      <td>13</td>\n",
       "    </tr>\n",
       "    <tr>\n",
       "      <th>4246</th>\n",
       "      <td>Stray Dogs</td>\n",
       "      <td>14</td>\n",
       "    </tr>\n",
       "    <tr>\n",
       "      <th>5031</th>\n",
       "      <td>Drainage</td>\n",
       "      <td>15</td>\n",
       "    </tr>\n",
       "    <tr>\n",
       "      <th>7048</th>\n",
       "      <td>Trees</td>\n",
       "      <td>16</td>\n",
       "    </tr>\n",
       "    <tr>\n",
       "      <th>7059</th>\n",
       "      <td>Gar</td>\n",
       "      <td>17</td>\n",
       "    </tr>\n",
       "    <tr>\n",
       "      <th>7111</th>\n",
       "      <td>Electriv</td>\n",
       "      <td>18</td>\n",
       "    </tr>\n",
       "  </tbody>\n",
       "</table>\n",
       "</div>"
      ],
      "text/plain": [
       "             category  category_id\n",
       "0            Potholes            0\n",
       "1             Garbage            1\n",
       "2             Traffic            2\n",
       "15              Water            3\n",
       "16            Toilets            4\n",
       "26      Stray Animals            5\n",
       "32    Noise Pollution            6\n",
       "34        Electricity            7\n",
       "49      Air Pollution            8\n",
       "53        Cleanliness            9\n",
       "122           Parking           10\n",
       "152   Water Pollution           11\n",
       "156            Trafic           12\n",
       "268           Station           13\n",
       "4246       Stray Dogs           14\n",
       "5031         Drainage           15\n",
       "7048            Trees           16\n",
       "7059              Gar           17\n",
       "7111         Electriv           18"
      ]
     },
     "execution_count": 45,
     "metadata": {},
     "output_type": "execute_result"
    }
   ],
   "source": [
    "\n",
    "df['category_id'] = df['category'].factorize()[0] \n",
    "cat_id_df = df[[\"category\", \"category_id\"]].drop_duplicates().sort_values('category_id')\n",
    "cat_to_id = dict(cat_id_df.values)\n",
    "id_to_cat = dict(cat_id_df[['category_id','category']].values)\n",
    "cat_id_df"
   ]
  },
  {
   "cell_type": "code",
   "execution_count": 30,
   "metadata": {},
   "outputs": [],
   "source": [
    "from sklearn.feature_extraction.text import TfidfVectorizer\n",
    "tfidf = TfidfVectorizer(sublinear_tf= True, #use a logarithmic form for frequency\n",
    "                       min_df = 5, #minimum numbers of documents a word must be present in to be kept\n",
    "                       norm= 'l2', #ensure all our feature vectors have a euclidian norm of 1\n",
    "                       ngram_range= (1,2), #to indicate that we want to consider both unigrams and bigrams.\n",
    "                       stop_words ='english') #to remove all common pronouns to reduce the number of noisy features"
   ]
  },
  {
   "cell_type": "code",
   "execution_count": 31,
   "metadata": {},
   "outputs": [],
   "source": [
    "features = tfidf.fit_transform(df.description).toarray()"
   ]
  },
  {
   "cell_type": "code",
   "execution_count": 32,
   "metadata": {},
   "outputs": [],
   "source": [
    "from sklearn.model_selection import train_test_split"
   ]
  },
  {
   "cell_type": "code",
   "execution_count": 52,
   "metadata": {},
   "outputs": [
    {
     "data": {
      "text/plain": [
       "7181"
      ]
     },
     "execution_count": 52,
     "metadata": {},
     "output_type": "execute_result"
    }
   ],
   "source": [
    "X_train, X_test, y_train, y_test = train_test_split(df['description'], df['category'], random_state= 0)\n"
   ]
  },
  {
   "cell_type": "code",
   "execution_count": 34,
   "metadata": {},
   "outputs": [],
   "source": [
    "from sklearn.feature_extraction.text import CountVectorizer\n"
   ]
  },
  {
   "cell_type": "code",
   "execution_count": 35,
   "metadata": {},
   "outputs": [],
   "source": [
    "count_vect = CountVectorizer()\n"
   ]
  },
  {
   "cell_type": "code",
   "execution_count": 36,
   "metadata": {},
   "outputs": [],
   "source": [
    "from sklearn.feature_extraction.text import TfidfTransformer"
   ]
  },
  {
   "cell_type": "code",
   "execution_count": 37,
   "metadata": {},
   "outputs": [
    {
     "data": {
      "text/plain": [
       "pandas.core.series.Series"
      ]
     },
     "execution_count": 37,
     "metadata": {},
     "output_type": "execute_result"
    }
   ],
   "source": [
    "X_train_counts = count_vect.fit_transform(X_train)\n",
    "tfidf_transformer = TfidfTransformer()\n",
    "X_train_tfidf = tfidf_transformer.fit_transform(X_train_counts)\n",
    "type(y_train)"
   ]
  },
  {
   "cell_type": "code",
   "execution_count": 38,
   "metadata": {},
   "outputs": [],
   "source": [
    "from sklearn.svm import LinearSVC\n",
    "clf = LinearSVC().fit(X_train_tfidf, y_train)"
   ]
  },
  {
   "cell_type": "code",
   "execution_count": 39,
   "metadata": {},
   "outputs": [
    {
     "name": "stdout",
     "output_type": "stream",
     "text": [
      "['Station']\n"
     ]
    }
   ],
   "source": [
    "print(clf.predict(count_vect.transform(['There is station on the station'])))\n"
   ]
  },
  {
   "cell_type": "code",
   "execution_count": 40,
   "metadata": {},
   "outputs": [],
   "source": [
    "y_pred = clf.predict(count_vect.transform(X_test))"
   ]
  },
  {
   "cell_type": "code",
   "execution_count": 41,
   "metadata": {},
   "outputs": [
    {
     "data": {
      "text/plain": [
       "<matplotlib.axes._subplots.AxesSubplot at 0x1de34e687b8>"
      ]
     },
     "execution_count": 41,
     "metadata": {},
     "output_type": "execute_result"
    },
    {
     "data": {
      "image/png": "[encoded data removed]",
      "text/plain": [
       "<Figure size 432x288 with 2 Axes>"
      ]
     },
     "metadata": {
      "needs_background": "light"
     },
     "output_type": "display_data"
    }
   ],
   "source": [
    "import seaborn as sns\n",
    "from sklearn import metrics\n",
    "from sklearn.metrics import confusion_matrix\n",
    "cf_matrix=confusion_matrix(y_test, y_pred)\n",
    "sns.heatmap(cf_matrix, annot=True)"
   ]
  },
  {
   "cell_type": "code",
   "execution_count": 42,
   "metadata": {},
   "outputs": [
    {
     "name": "stdout",
     "output_type": "stream",
     "text": [
      "                 precision    recall  f1-score   support\n",
      "\n",
      "       Potholes       0.69      0.92      0.79        49\n",
      "        Garbage       0.87      0.87      0.87        54\n",
      "        Traffic       0.59      0.56      0.57        18\n",
      "          Water       0.59      0.56      0.57        18\n",
      "        Toilets       0.69      0.92      0.79        49\n",
      "  Stray Animals       0.87      0.87      0.87        54\n",
      "Noise Pollution       0.69      0.92      0.79        49\n",
      "    Electricity       0.69      0.92      0.79        49\n",
      "  Air Pollution       0.69      0.92      0.79        49\n",
      "    Cleanliness       0.69      0.92      0.79        49\n",
      "        Parking       0.69      0.92      0.79        49\n",
      "Water Pollution       0.69      0.92      0.79        49\n",
      "         Trafic       0.87      0.87      0.87        54\n",
      "        Station       0.87      0.87      0.87        54\n",
      "     Stray Dogs       0.69      0.92      0.79        49\n",
      "       Drainage       0.00      0.00      0.00         1\n",
      "          Trees       0.00      0.00      0.00         0\n",
      "            Gar       0.87      0.87      0.87        54\n",
      "       Electriv       0.59      0.56      0.57        18\n",
      "\n",
      "    avg / total       1.00      0.99      0.99  10681249\n",
      "\n"
     ]
    },
    {
     "name": "stderr",
     "output_type": "stream",
     "text": [
      "C:\\Users\\TheEnigma\\Anaconda3\\lib\\site-packages\\sklearn\\metrics\\classification.py:1428: UserWarning: labels size, 7181, does not match size of target_names, 19\n",
      "  .format(len(labels), len(target_names))\n",
      "C:\\Users\\TheEnigma\\Anaconda3\\lib\\site-packages\\sklearn\\metrics\\classification.py:1135: UndefinedMetricWarning: Precision and F-score are ill-defined and being set to 0.0 in labels with no predicted samples.\n",
      "  'precision', 'predicted', average, warn_for)\n",
      "C:\\Users\\TheEnigma\\Anaconda3\\lib\\site-packages\\sklearn\\metrics\\classification.py:1137: UndefinedMetricWarning: Recall and F-score are ill-defined and being set to 0.0 in labels with no true samples.\n",
      "  'recall', 'true', average, warn_for)\n"
     ]
    }
   ],
   "source": [
    "print(metrics.classification_report(y_test,y_pred, labels= df.category, target_names=df['category'].unique()))\n"
   ]
  },
  {
   "cell_type": "code",
   "execution_count": 43,
   "metadata": {},
   "outputs": [],
   "source": [
    "import pickle\n",
    "with open(\"text_model.pkl\", 'wb') as file:  \n",
    "    pickle.dump(clf, file)\n",
    "with open(\"text_model.pkl\", 'rb') as file:  \n",
    "    mp = pickle.load(file)\n",
    "    \n",
    "import pickle\n",
    "with open(\"count_vect.pkl\", 'wb') as file:  \n",
    "    pickle.dump(count_vect, file)\n",
    "with open(\"count_vect.pkl\", 'rb') as file:  \n",
    "    cou = pickle.load(file)    "
   ]
  },
  {
   "cell_type": "code",
   "execution_count": 44,
   "metadata": {},
   "outputs": [
    {
     "data": {
      "text/plain": [
       "array(['Station'], dtype=object)"
      ]
     },
     "execution_count": 44,
     "metadata": {},
     "output_type": "execute_result"
    }
   ],
   "source": [
    "mp.predict(count_vect.transform(['There is station on the station']))"
   ]
  },
  {
   "cell_type": "code",
   "execution_count": null,
   "metadata": {},
   "outputs": [],
   "source": []
  },
  {
   "cell_type": "code",
   "execution_count": null,
   "metadata": {},
   "outputs": [],
   "source": []
  }
 ],
 "metadata": {
  "kernelspec": {
   "display_name": "Python 3",
   "language": "python",
   "name": "python3"
  },
  "language_info": {
   "codemirror_mode": {
    "name": "ipython",
    "version": 3
   },
   "file_extension": ".py",
   "mimetype": "text/x-python",
   "name": "python",
   "nbconvert_exporter": "python",
   "pygments_lexer": "ipython3",
   "version": "3.7.0"
  }
 },
 "nbformat": 4,
 "nbformat_minor": 2
}
